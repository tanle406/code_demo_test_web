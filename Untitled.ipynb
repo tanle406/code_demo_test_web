{
 "cells": [
  {
   "cell_type": "code",
   "execution_count": 2,
   "id": "118571ed",
   "metadata": {},
   "outputs": [
    {
     "data": {
      "text/plain": [
       "'B'"
      ]
     },
     "execution_count": 2,
     "metadata": {},
     "output_type": "execute_result"
    }
   ],
   "source": [
    "chr(66)"
   ]
  },
  {
   "cell_type": "code",
   "execution_count": 3,
   "id": "ceeabf00",
   "metadata": {},
   "outputs": [],
   "source": [
    "from openpyxl import load_workbook, Workbook"
   ]
  },
  {
   "cell_type": "code",
   "execution_count": 16,
   "id": "c74b5065",
   "metadata": {},
   "outputs": [],
   "source": [
    "work_book = load_workbook(r\"C:\\Users\\IFV-admin\\Desktop\\test case\\test.xlsx\")\n",
    "work_sheet = work_book.active\n",
    "work_sheet[\"I16\"].value = \"OK\"\n",
    "work_book.save(r\"C:\\Users\\IFV-admin\\Desktop\\test case\\test.xlsx\")"
   ]
  },
  {
   "cell_type": "code",
   "execution_count": 5,
   "id": "5902d64b",
   "metadata": {},
   "outputs": [
    {
     "data": {
      "text/plain": [
       "'C:\\\\Users\\\\IFV-admin\\\\Desktop\\\\test case\\\\test1.xlsx'"
      ]
     },
     "execution_count": 5,
     "metadata": {},
     "output_type": "execute_result"
    }
   ],
   "source": [
    "from shutil import copyfile\n",
    "copyfile(r\"C:\\Users\\IFV-admin\\Desktop\\test case\\test.xlsx\", r\"C:\\Users\\IFV-admin\\Desktop\\test case\\test1.xlsx\")"
   ]
  },
  {
   "cell_type": "code",
   "execution_count": 8,
   "id": "4d86b5ec",
   "metadata": {},
   "outputs": [
    {
     "data": {
      "text/plain": [
       "'C:\\\\Users\\\\IFV-admin\\\\Desktop\\\\test case\\\\backup\\\\test1.xlsx'"
      ]
     },
     "execution_count": 8,
     "metadata": {},
     "output_type": "execute_result"
    }
   ],
   "source": [
    "from shutil import move\n",
    "copyfile(r\"C:\\Users\\IFV-admin\\Desktop\\test case\\test1.xlsx\", r\"C:\\Users\\IFV-admin\\Desktop\\test case\\backup\\test1.xlsx\")"
   ]
  },
  {
   "cell_type": "code",
   "execution_count": 15,
   "id": "a8413df3",
   "metadata": {},
   "outputs": [],
   "source": [
    "import os\n",
    "from os import path\n",
    "check_folder = path.exists(r\"C:\\Users\\IFV-admin\\Desktop\\test case\\backup\")\n",
    "if check_folder:\n",
    "    pass\n",
    "else:\n",
    "    os.makedirs(r\"C:\\Users\\IFV-admin\\Desktop\\test case\\backup\")"
   ]
  },
  {
   "cell_type": "code",
   "execution_count": null,
   "id": "3afe2e6b",
   "metadata": {},
   "outputs": [],
   "source": []
  },
  {
   "cell_type": "code",
   "execution_count": 27,
   "id": "d2f4b49d",
   "metadata": {},
   "outputs": [
    {
     "ename": "TypeError",
     "evalue": "'tuple' object does not support item assignment",
     "output_type": "error",
     "traceback": [
      "\u001b[1;31m---------------------------------------------------------------------------\u001b[0m",
      "\u001b[1;31mTypeError\u001b[0m                                 Traceback (most recent call last)",
      "\u001b[1;32mC:\\Users\\IFV-AD~1\\AppData\\Local\\Temp/ipykernel_13724/1868593096.py\u001b[0m in \u001b[0;36m<module>\u001b[1;34m\u001b[0m\n\u001b[0;32m      1\u001b[0m \u001b[0mthistuple\u001b[0m \u001b[1;33m=\u001b[0m \u001b[1;33m(\u001b[0m\u001b[1;34m\"apple\"\u001b[0m\u001b[1;33m,\u001b[0m \u001b[1;34m\"banana\"\u001b[0m\u001b[1;33m,\u001b[0m \u001b[1;34m\"cherry\"\u001b[0m\u001b[1;33m)\u001b[0m\u001b[1;33m\u001b[0m\u001b[1;33m\u001b[0m\u001b[0m\n\u001b[1;32m----> 2\u001b[1;33m \u001b[0mthistuple\u001b[0m\u001b[1;33m[\u001b[0m\u001b[1;36m1\u001b[0m\u001b[1;33m]\u001b[0m \u001b[1;33m=\u001b[0m \u001b[1;34m\"blackcurrant\"\u001b[0m\u001b[1;33m\u001b[0m\u001b[1;33m\u001b[0m\u001b[0m\n\u001b[0m",
      "\u001b[1;31mTypeError\u001b[0m: 'tuple' object does not support item assignment"
     ]
    }
   ],
   "source": [
    "thistuple = (\"apple\", \"banana\", \"cherry\")\n",
    "thistuple[1] = \"blackcurrant\""
   ]
  },
  {
   "cell_type": "code",
   "execution_count": 1,
   "id": "f5ffd33f",
   "metadata": {},
   "outputs": [],
   "source": [
    "def MoveFile(old_path, new_location):\n",
    "    import os\n",
    "    import datetime\n",
    "    h =datetime.datetime.now()\n",
    "    name = old_path.split(\"\\\\\")[-1]\n",
    "    new_path = new_location + \"\\\\\" + name\n",
    "    if os.path.exists(old_path):\n",
    "        if not os.path.exists(new_path):\n",
    "            os.rename(old_path, new_path)\n",
    "        elif os.path.exists(new_path):\n",
    "            new_path = new_location + \"\\\\\" + \\\n",
    "                \"(\" + str(h).split('.')[0].replace(':','') + \") \" + name\n",
    "            os.rename(old_path, new_path)"
   ]
  },
  {
   "cell_type": "code",
   "execution_count": 3,
   "id": "babbfffc",
   "metadata": {},
   "outputs": [],
   "source": [
    "MoveFile(\"D:\\\\TanLV\\\\SS1\\\\output\\\\output.xlsx\", \"D:\\\\TanLV\\\\SS1\\\\bak\")"
   ]
  },
  {
   "cell_type": "code",
   "execution_count": 31,
   "id": "ee7cd324",
   "metadata": {},
   "outputs": [
    {
     "name": "stdout",
     "output_type": "stream",
     "text": [
      "88\n"
     ]
    }
   ],
   "source": [
    "x = 99\n",
    "def func1():\n",
    "    global x\n",
    "    x = 88\n",
    "def func2():\n",
    "    global x\n",
    "    x = 77\n",
    "func2()\n",
    "func1()\n",
    "\n",
    "print(x)"
   ]
  },
  {
   "cell_type": "code",
   "execution_count": 8,
   "id": "9d30da39",
   "metadata": {},
   "outputs": [],
   "source": [
    "a = ['https://www.aohata.co.jp/products/55/45185922.html', 'https://www.aohata.co.jp/products/55/45185939.html', 'https://www.aohata.co.jp/products/55/45185946.html', 'https://www.aohata.co.jp/products/55/45185953.html', 'https://www.aohata.co.jp/products/55/45185960.html', 'https://www.aohata.co.jp/products/55/45185984.html', 'https://www.aohata.co.jp/products/55/45185991.html', 'https://www.aohata.co.jp/products/55/45186004.html', 'https://www.aohata.co.jp/products/55/45186011.html', 'https://www.aohata.co.jp/products/55/45201981.html', 'https://www.aohata.co.jp/products/55/45212000.html', 'https://www.aohata.co.jp/products/marugoto/4562452230016.html', 'https://www.aohata.co.jp/products/marugoto/4562452230023.html', 'https://www.aohata.co.jp/products/marugoto/4562452230030.html', 'https://www.aohata.co.jp/products/marugoto/4562452230047.html', 'https://www.aohata.co.jp/products/marugoto/4562452230054.html', 'https://www.aohata.co.jp/products/marugoto/4562452230276.html', 'https://www.aohata.co.jp/products/marugoto/4562452230283.html', 'https://www.aohata.co.jp/products/marugoto/4562452230788.html', 'https://www.aohata.co.jp/products/marugoto/4562452231198.html', 'https://www.aohata.co.jp/products/traditional/4562452230887.html', 'https://www.aohata.co.jp/products/traditional/4562452230894.html', 'https://www.aohata.co.jp/products/slug_50/45186134.html', 'https://www.aohata.co.jp/products/slug_50/45186141.html', 'https://www.aohata.co.jp/products/slug_50/45186158.html', 'https://www.aohata.co.jp/products/afternoon/4562452230160.html', 'https://www.aohata.co.jp/products/afternoon/4562452230177.html', 'https://www.aohata.co.jp/products/afternoon/4562452230184.html', 'https://www.aohata.co.jp/products/afternoon/4562452230191.html', 'https://www.aohata.co.jp/products/fruitsauce/4562452231266.html', 'https://www.aohata.co.jp/products/fruitsauce/4562452231273.html', 'https://www.aohata.co.jp/products/eggbutter/45201967.html', 'https://www.aohata.co.jp/products/eggbutter/45201974.html', 'https://www.aohata.co.jp/products/spread/45201912.html', 'https://www.aohata.co.jp/products/spread/45201905.html', 'https://www.aohata.co.jp/products/terrine/4562452230900.html', 'https://www.aohata.co.jp/products/terrine/4562452230917.html', 'https://www.aohata.co.jp/products/terrine/4562452230344.html', 'https://www.aohata.co.jp/products/terrine/4562452230351.html', 'https://www.aohata.co.jp/products/terrine/4562452230924.html', 'https://www.aohata.co.jp/products/terrine/4562452230931.html', 'https://www.aohata.co.jp/products/whip/4562452230290.html', 'https://www.aohata.co.jp/products/whip/4562452230306.html', 'https://www.aohata.co.jp/products/whip/4562452231235.html', 'https://www.aohata.co.jp/products/whip/4562452231167.html', 'https://www.aohata.co.jp/products/whip/4562452231174.html', 'https://www.aohata.co.jp/products/toast/4562452231129.html', 'https://www.aohata.co.jp/products/toast/4562452231136.html', 'https://www.aohata.co.jp/products/toast/4562452231495.html', 'https://www.aohata.co.jp/products/toast/4562452231464.html', 'https://www.aohata.co.jp/products/toast/4562452231181.html', 'https://www.aohata.co.jp/products/pakitte/4562452230504.html', 'https://www.aohata.co.jp/products/pakitte/4562452230511.html', 'https://www.aohata.co.jp/products/pakitte/4562452230528.html', 'https://www.aohata.co.jp/products/pakitte/4562452230535.html', 'https://www.aohata.co.jp/products/pakitte/4562452230542.html', 'https://www.aohata.co.jp/products/pakitte/4562452230559.html', 'https://www.aohata.co.jp/products/pakitte/4562452230566.html', 'https://www.aohata.co.jp/products/pakitte/4562452231341.html', 'https://www.aohata.co.jp/products/lamp/4901577005145.html', 'https://www.aohata.co.jp/products/lamp/4901577005152.html', 'https://www.aohata.co.jp/products/lamp/4901577005169.html']"
   ]
  },
  {
   "cell_type": "code",
   "execution_count": 9,
   "id": "9fcaff83",
   "metadata": {},
   "outputs": [
    {
     "data": {
      "text/plain": [
       "'https://www.aohata.co.jp/products/55/45212000.html'"
      ]
     },
     "execution_count": 9,
     "metadata": {},
     "output_type": "execute_result"
    }
   ],
   "source": [
    "a[10]"
   ]
  },
  {
   "cell_type": "code",
   "execution_count": 7,
   "id": "70c5e2c9",
   "metadata": {},
   "outputs": [
    {
     "ename": "AttributeError",
     "evalue": "'NoneType' object has no attribute 'index'",
     "output_type": "error",
     "traceback": [
      "\u001b[1;31m---------------------------------------------------------------------------\u001b[0m",
      "\u001b[1;31mAttributeError\u001b[0m                            Traceback (most recent call last)",
      "\u001b[1;32mC:\\Users\\IFV-AD~1\\AppData\\Local\\Temp/ipykernel_15892/2704317759.py\u001b[0m in \u001b[0;36m<module>\u001b[1;34m\u001b[0m\n\u001b[0;32m      2\u001b[0m \u001b[0mdf_master\u001b[0m \u001b[1;33m=\u001b[0m \u001b[0mpd\u001b[0m\u001b[1;33m.\u001b[0m\u001b[0mread_excel\u001b[0m\u001b[1;33m(\u001b[0m\u001b[1;34m\"D:\\\\TanLV\\\\SS1\\\\tmpl\\\\master_price_product.xlsx\"\u001b[0m\u001b[1;33m,\u001b[0m \u001b[0msheet_name\u001b[0m\u001b[1;33m=\u001b[0m\u001b[1;36m0\u001b[0m\u001b[1;33m,\u001b[0m \u001b[0mheader\u001b[0m\u001b[1;33m=\u001b[0m\u001b[1;36m0\u001b[0m\u001b[1;33m,\u001b[0m \u001b[0mdtype\u001b[0m\u001b[1;33m=\u001b[0m\u001b[0mobject\u001b[0m\u001b[1;33m)\u001b[0m\u001b[1;33m\u001b[0m\u001b[1;33m\u001b[0m\u001b[0m\n\u001b[0;32m      3\u001b[0m \u001b[0mdf_check\u001b[0m \u001b[1;33m=\u001b[0m \u001b[0mdf_master\u001b[0m\u001b[1;33m.\u001b[0m\u001b[0mloc\u001b[0m\u001b[1;33m[\u001b[0m\u001b[0mdf_master\u001b[0m\u001b[1;33m[\u001b[0m\u001b[1;34m\"Code_Product\"\u001b[0m\u001b[1;33m]\u001b[0m\u001b[1;33m.\u001b[0m\u001b[0mastype\u001b[0m\u001b[1;33m(\u001b[0m\u001b[0mstr\u001b[0m\u001b[1;33m)\u001b[0m \u001b[1;33m==\u001b[0m \u001b[1;34m\"4562452230047\"\u001b[0m\u001b[1;33m]\u001b[0m\u001b[1;33m.\u001b[0m\u001b[0mreset_index\u001b[0m\u001b[1;33m(\u001b[0m\u001b[0minplace\u001b[0m \u001b[1;33m=\u001b[0m \u001b[1;32mTrue\u001b[0m\u001b[1;33m)\u001b[0m\u001b[1;33m\u001b[0m\u001b[1;33m\u001b[0m\u001b[0m\n\u001b[1;32m----> 4\u001b[1;33m \u001b[0mdf_check\u001b[0m\u001b[1;33m.\u001b[0m\u001b[0mindex\u001b[0m\u001b[1;33m[\u001b[0m\u001b[1;36m0\u001b[0m\u001b[1;33m]\u001b[0m\u001b[1;33m\u001b[0m\u001b[1;33m\u001b[0m\u001b[0m\n\u001b[0m",
      "\u001b[1;31mAttributeError\u001b[0m: 'NoneType' object has no attribute 'index'"
     ]
    }
   ],
   "source": [
    "import pandas as pd\n",
    "df_master = pd.read_excel(\"D:\\\\TanLV\\\\SS1\\\\tmpl\\\\master_price_product.xlsx\", sheet_name=0, header=0, dtype=object)\n",
    "df_check = df_master.loc[df_master[\"Code_Product\"].astype(str) == \"4562452230047\"].reset_index(inplace = True)\n",
    "df_check.index[0]"
   ]
  },
  {
   "cell_type": "code",
   "execution_count": 8,
   "id": "06888569",
   "metadata": {},
   "outputs": [
    {
     "name": "stdout",
     "output_type": "stream",
     "text": [
      "430円\n"
     ]
    }
   ],
   "source": [
    "print(df_check[\"Price\"][\n",
    "    df_check.index[0]])"
   ]
  },
  {
   "cell_type": "code",
   "execution_count": 44,
   "id": "b0f4b7c3",
   "metadata": {},
   "outputs": [],
   "source": [
    "prods = ['https://www.aohata.co.jp/products/55/45185922.html', 'https://www.aohata.co.jp/products/55/45185939.html', 'https://www.aohata.co.jp/products/55/45185946.html', 'https://www.aohata.co.jp/products/55/45185953.html', 'https://www.aohata.co.jp/products/55/45185960.html', 'https://www.aohata.co.jp/products/55/45185984.html', 'https://www.aohata.co.jp/products/55/45185991.html', 'https://www.aohata.co.jp/products/55/45186004.html', 'https://www.aohata.co.jp/products/55/45186011.html', 'https://www.aohata.co.jp/products/55/45201981.html', 'https://www.aohata.co.jp/products/55/45212000.html', 'https://www.aohata.co.jp/products/marugoto/4562452230016.html', 'https://www.aohata.co.jp/products/marugoto/4562452230023.html', 'https://www.aohata.co.jp/products/marugoto/4562452230030.html', 'https://www.aohata.co.jp/products/marugoto/4562452230047.html', 'https://www.aohata.co.jp/products/marugoto/4562452230054.html', 'https://www.aohata.co.jp/products/marugoto/4562452230276.html', 'https://www.aohata.co.jp/products/marugoto/4562452230283.html', 'https://www.aohata.co.jp/products/marugoto/4562452230788.html', 'https://www.aohata.co.jp/products/marugoto/4562452231198.html', 'https://www.aohata.co.jp/products/traditional/4562452230887.html', 'https://www.aohata.co.jp/products/traditional/4562452230894.html', 'https://www.aohata.co.jp/products/slug_50/45186134.html', 'https://www.aohata.co.jp/products/slug_50/45186141.html', 'https://www.aohata.co.jp/products/slug_50/45186158.html', 'https://www.aohata.co.jp/products/afternoon/4562452230160.html', 'https://www.aohata.co.jp/products/afternoon/4562452230177.html', 'https://www.aohata.co.jp/products/afternoon/4562452230184.html', 'https://www.aohata.co.jp/products/afternoon/4562452230191.html', 'https://www.aohata.co.jp/products/fruitsauce/4562452231266.html', 'https://www.aohata.co.jp/products/fruitsauce/4562452231273.html', 'https://www.aohata.co.jp/products/eggbutter/45201967.html', 'https://www.aohata.co.jp/products/eggbutter/45201974.html', 'https://www.aohata.co.jp/products/spread/45201912.html', 'https://www.aohata.co.jp/products/spread/45201905.html', 'https://www.aohata.co.jp/products/terrine/4562452230900.html', 'https://www.aohata.co.jp/products/terrine/4562452230917.html', 'https://www.aohata.co.jp/products/terrine/4562452230344.html', 'https://www.aohata.co.jp/products/terrine/4562452230351.html', 'https://www.aohata.co.jp/products/terrine/4562452230924.html', 'https://www.aohata.co.jp/products/terrine/4562452230931.html', 'https://www.aohata.co.jp/products/hitokuchi/4562452231525.html', 'https://www.aohata.co.jp/products/whip/4562452230290.html', 'https://www.aohata.co.jp/products/whip/4562452230306.html', 'https://www.aohata.co.jp/products/whip/4562452231235.html', 'https://www.aohata.co.jp/products/whip/4562452231167.html', 'https://www.aohata.co.jp/products/whip/4562452231174.html', 'https://www.aohata.co.jp/products/toast/4562452231129.html', 'https://www.aohata.co.jp/products/toast/4562452231136.html', 'https://www.aohata.co.jp/products/toast/4562452231495.html', 'https://www.aohata.co.jp/products/toast/4562452231464.html', 'https://www.aohata.co.jp/products/toast/4562452231181.html', 'https://www.aohata.co.jp/products/pakitte/4562452230504.html', 'https://www.aohata.co.jp/products/pakitte/4562452230511.html', 'https://www.aohata.co.jp/products/pakitte/4562452230528.html', 'https://www.aohata.co.jp/products/pakitte/4562452230535.html', 'https://www.aohata.co.jp/products/pakitte/4562452230542.html', 'https://www.aohata.co.jp/products/pakitte/4562452230559.html', 'https://www.aohata.co.jp/products/pakitte/4562452230566.html', 'https://www.aohata.co.jp/products/pakitte/4562452231341.html', 'https://www.aohata.co.jp/products/lamp/4901577005145.html', 'https://www.aohata.co.jp/products/lamp/4901577005152.html', 'https://www.aohata.co.jp/products/lamp/4901577005169.html']"
   ]
  },
  {
   "cell_type": "code",
   "execution_count": 45,
   "id": "99bdfb54",
   "metadata": {},
   "outputs": [
    {
     "data": {
      "text/plain": [
       "'https://www.aohata.co.jp/products/marugoto/4562452230054.html'"
      ]
     },
     "execution_count": 45,
     "metadata": {},
     "output_type": "execute_result"
    }
   ],
   "source": [
    "prods[15]"
   ]
  },
  {
   "cell_type": "code",
   "execution_count": 3,
   "id": "37f394e6",
   "metadata": {},
   "outputs": [
    {
     "data": {
      "text/plain": [
       "'#002f87'"
      ]
     },
     "execution_count": 3,
     "metadata": {},
     "output_type": "execute_result"
    }
   ],
   "source": [
    "color_rgba = (0, 47, 135, 1) # R, G, B, Alpha\n",
    "rgba_color_hex = '#{:02x}{:02x}{:02x}'.format(*color_rgba)\n",
    "rgba_color_hex"
   ]
  },
  {
   "cell_type": "code",
   "execution_count": 58,
   "id": "ee33bb82",
   "metadata": {},
   "outputs": [],
   "source": [
    "from bs4 import BeautifulSoup\n",
    "import requests\n",
    "url = \"https://usamart-stg.a-it.jp/products/86967\"\n",
    "content = requests.get(url, auth=(\"ec\", \"W7XxaowZ\")).content\n",
    "soup = BeautifulSoup(content, 'html.parser')"
   ]
  },
  {
   "cell_type": "code",
   "execution_count": 59,
   "id": "e6e9ed43",
   "metadata": {},
   "outputs": [
    {
     "name": "stdout",
     "output_type": "stream",
     "text": [
      "True\n"
     ]
    }
   ],
   "source": [
    "content_prod = soup.find(\"div\", {\"id\": \"product_wrapper\"})\n",
    "if \"タイヤ\" in content_prod.text:\n",
    "    print(\"True\")\n",
    "else:\n",
    "    print(\"False\")"
   ]
  },
  {
   "cell_type": "code",
   "execution_count": 10,
   "id": "d494a3ba",
   "metadata": {},
   "outputs": [],
   "source": [
    "import pandas as pd\n",
    "\n",
    "# Create a Pandas dataframe from some data.\n",
    "df = pd.DataFrame({'Data': [10, 20, 30, 20, 15, 30, 45]})\n",
    "\n",
    "# Create a Pandas Excel writer using XlsxWriter as the engine.\n",
    "writer = pd.ExcelWriter('pandas_image.xlsx', engine='xlsxwriter')\n",
    "\n",
    "# Convert the dataframe to an XlsxWriter Excel object.\n",
    "df.to_excel(writer, sheet_name='Sheet1')\n",
    "\n",
    "# Get the xlsxwriter workbook and worksheet objects.\n",
    "workbook  = writer.book\n",
    "worksheet = writer.sheets['Sheet1']\n",
    "\n",
    "# Insert an image.\n",
    "worksheet.insert_image('C2', 'C:\\\\Users\\\\IFV-admin\\\\Desktop\\\\45201905L.jpg', {'x_scale': 0.05, 'y_scale': 0.05})\n",
    "\n",
    "# Close the Pandas Excel writer and output the Excel file.\n",
    "writer.save()"
   ]
  },
  {
   "cell_type": "code",
   "execution_count": 2,
   "id": "de28387a",
   "metadata": {},
   "outputs": [
    {
     "name": "stdout",
     "output_type": "stream",
     "text": [
      "0\n",
      "1\n"
     ]
    }
   ],
   "source": [
    "for i in range(2):\n",
    "    print(i)"
   ]
  },
  {
   "cell_type": "code",
   "execution_count": 9,
   "id": "dbb288a7",
   "metadata": {},
   "outputs": [],
   "source": [
    "import pandas as pd\n",
    "df = pd.read_excel(\"D:\\\\TanLV\\\\SS1\\\\output\\\\output.xlsx\", header=0, sheet_name=0, dtype=object)\n",
    "df_click = df[df[\"テスト内容\"].astype(str) == \"商品情報を押下する\"]\n",
    "df_click.reset_index(inplace=True)"
   ]
  },
  {
   "cell_type": "code",
   "execution_count": 3,
   "id": "0baef7c5",
   "metadata": {},
   "outputs": [
    {
     "data": {
      "text/plain": [
       "True"
      ]
     },
     "execution_count": 3,
     "metadata": {},
     "output_type": "execute_result"
    }
   ],
   "source": [
    "from selenium import webdriver\n",
    "driver = webdriver.Chrome(executable_path = \"D:\\\\TanLV\\\\SS1\\\\driver\\\\chromedriver.exe\")\n",
    "url = \"https://www.google.com/\"\n",
    "driver.get(url)\n",
    "driver.save_screenshot('ss.png')"
   ]
  },
  {
   "cell_type": "code",
   "execution_count": 28,
   "id": "c0eff686",
   "metadata": {},
   "outputs": [],
   "source": [
    "from selenium import webdriver\n",
    "from PIL import Image\n",
    "from screenshot import Screenshot_Clipping\n",
    "ss = Screenshot_Clipping.Screenshot()\n",
    "driver = webdriver.Chrome(executable_path=\"D:\\\\TanLV\\\\SS1\\\\driver\\\\chromedriver.exe\")\n",
    "driver.maximize_window()\n",
    "url = \"https://www.aohata.co.jp/products\"\n",
    "driver.get(url)\n",
    "image = ss.full_Screenshot(driver, save_path=r'.' , image_name='image\\\\name.png')"
   ]
  },
  {
   "cell_type": "code",
   "execution_count": 23,
   "id": "7e8f68ca",
   "metadata": {},
   "outputs": [
    {
     "name": "stderr",
     "output_type": "stream",
     "text": [
      "C:\\Users\\IFV-AD~1\\AppData\\Local\\Temp/ipykernel_13484/4055433093.py:10: DeprecationWarning: use options instead of chrome_options\n",
      "  driver = webdriver.Chrome(chrome_options=chrome_options, executable_path=\"D:\\\\TanLV\\\\SS1\\\\driver\\\\chromedriver.exe\")\n"
     ]
    }
   ],
   "source": [
    "import time\n",
    "from selenium import webdriver\n",
    "from selenium.webdriver.chrome.options import Options\n",
    "from selenium.webdriver.common.by import By\n",
    "\n",
    "def test_fullpage_screenshot():\n",
    "    chrome_options = Options()\n",
    "    chrome_options.add_argument('--headless')\n",
    "    chrome_options.add_argument('--start-maximized')\n",
    "    driver = webdriver.Chrome(chrome_options=chrome_options, executable_path=\"D:\\\\TanLV\\\\SS1\\\\driver\\\\chromedriver.exe\")\n",
    "    driver.get(\"https://www.browserstack.com/\")\n",
    "    time.sleep(2)\n",
    "\n",
    "    #the element with longest height on page\n",
    "    ele=driver.find_element(By.XPATH, '//*[@id=\"home-page\"]')\n",
    "    total_height = ele.size[\"height\"]+1000\n",
    "    driver.set_window_size(1920, total_height)      #the trick\n",
    "    time.sleep(2)\n",
    "    driver.save_screenshot(\"image\\\\screenshot1.png\")\n",
    "    driver.quit()\n",
    "\n",
    "if __name__ == \"__main__\":\n",
    "    test_fullpage_screenshot()\n"
   ]
  },
  {
   "cell_type": "code",
   "execution_count": 25,
   "id": "4062826e",
   "metadata": {},
   "outputs": [],
   "source": [
    "from selenium import webdriver\n",
    "browser = webdriver.Chrome(executable_path = \"D:\\\\TanLV\\\\SS1\\\\driver\\\\chromedriver.exe\")\n",
    "\n",
    "# We go to the webpage here and wait 2 seconds for fully load\n",
    "browser.get('https://www.browserstack.com/guide')\n",
    "time.sleep(2)\n",
    "\n",
    "# Where to save the picture\n",
    "directory = '/image'\n",
    "# Video title\n",
    "title = 'Hello world'\n",
    "\n",
    "try:\n",
    "        # We try to get the top-level component in which all out page is its children\n",
    "        # This is different for each website\n",
    "        elem = browser.find_element_by_id('page__wrapper')\n",
    "        # Get the height of the element, and adding some height just to be sage\n",
    "        total_height = elem.size['height'] + 3000\n",
    "        # Set the window size - what is the size of our screenshot\n",
    "        # The width is hardcoded because the screensize is fixed for each computer\n",
    "        browser.set_window_size(1928, total_height)\n",
    "        # Wait for 2 seconds\n",
    "        time.sleep(2)\n",
    "        # Take the screenshot\n",
    "        browser.find_element_by_id(\n",
    "            'page__wrapper').screenshot(f'./{directory}/{title}.png')\n",
    "except SystemError as err:\n",
    "        print('Take screenshot error at' + title)"
   ]
  },
  {
   "cell_type": "code",
   "execution_count": 34,
   "id": "70377a20",
   "metadata": {},
   "outputs": [
    {
     "name": "stdout",
     "output_type": "stream",
     "text": [
      "Starting chrome full page screenshot workaround ...\n",
      "Total: (912, 7239), Viewport: (912,887)\n",
      "Appending rectangle (0,0,912,887)\n",
      "Appending rectangle (0,887,912,1774)\n",
      "Appending rectangle (0,1774,912,2661)\n",
      "Appending rectangle (0,2661,912,3548)\n",
      "Appending rectangle (0,3548,912,4435)\n",
      "Appending rectangle (0,4435,912,5322)\n",
      "Appending rectangle (0,5322,912,6209)\n",
      "Appending rectangle (0,6209,912,7096)\n",
      "Appending rectangle (0,7096,912,7239)\n",
      "Capturing part_0.png ...\n",
      "Adding to stitched image with offset (0, 0)\n",
      "Scrolled To (0,887)\n",
      "Capturing part_1.png ...\n",
      "Adding to stitched image with offset (0, 887)\n",
      "Scrolled To (0,1774)\n",
      "Capturing part_2.png ...\n",
      "Adding to stitched image with offset (0, 1774)\n",
      "Scrolled To (0,2661)\n",
      "Capturing part_3.png ...\n",
      "Adding to stitched image with offset (0, 2661)\n",
      "Scrolled To (0,3548)\n",
      "Capturing part_4.png ...\n",
      "Adding to stitched image with offset (0, 3548)\n",
      "Scrolled To (0,4435)\n",
      "Capturing part_5.png ...\n",
      "Adding to stitched image with offset (0, 4435)\n",
      "Scrolled To (0,5322)\n",
      "Capturing part_6.png ...\n",
      "Adding to stitched image with offset (0, 5322)\n",
      "Scrolled To (0,6209)\n",
      "Capturing part_7.png ...\n",
      "Adding to stitched image with offset (0, 6209)\n",
      "Scrolled To (0,7096)\n",
      "Capturing part_8.png ...\n",
      "Adding to stitched image with offset (0, 6352)\n",
      "Finishing chrome full page screenshot workaround...\n"
     ]
    },
    {
     "name": "stderr",
     "output_type": "stream",
     "text": [
      ".\n",
      "----------------------------------------------------------------------\n",
      "Ran 1 test in 30.752s\n",
      "\n",
      "OK\n"
     ]
    },
    {
     "ename": "SystemExit",
     "evalue": "False",
     "output_type": "error",
     "traceback": [
      "An exception has occurred, use %tb to see the full traceback.\n",
      "\u001b[1;31mSystemExit\u001b[0m\u001b[1;31m:\u001b[0m False\n"
     ]
    },
    {
     "name": "stderr",
     "output_type": "stream",
     "text": [
      "c:\\users\\ifv-admin\\appdata\\local\\programs\\python\\python38\\lib\\site-packages\\IPython\\core\\interactiveshell.py:3465: UserWarning: To exit: use 'exit', 'quit', or Ctrl-D.\n",
      "  warn(\"To exit: use 'exit', 'quit', or Ctrl-D.\", stacklevel=1)\n"
     ]
    }
   ],
   "source": [
    "import sys\n",
    "\n",
    "from selenium import webdriver\n",
    "import unittest\n",
    "\n",
    "import until\n",
    "\n",
    "class Test(unittest.TestCase):\n",
    "    \"\"\" Demonstration: Get Chrome to generate fullscreen screenshot \"\"\"\n",
    "\n",
    "    def setUp(self):\n",
    "        self.driver = webdriver.Chrome(executable_path=\"D:\\\\TanLV\\\\SS1\\\\driver\\\\chromedriver.exe\")\n",
    "\n",
    "    def tearDown(self):\n",
    "        self.driver.quit()\n",
    "\n",
    "    def test_fullpage_screenshot(self):\n",
    "        ''' Generate document-height screenshot '''\n",
    "        #url = \"http://effbot.org/imagingbook/introduction.htm\"\n",
    "        url = \"http://www.w3schools.com/js/default.asp\"\n",
    "        self.driver.get(url)\n",
    "        until.fullpage_screenshot(self.driver, \"test.png\")\n",
    "\n",
    "\n",
    "if __name__ == \"__main__\":\n",
    "    unittest.main(argv=[sys.argv[0]])"
   ]
  },
  {
   "cell_type": "code",
   "execution_count": 8,
   "id": "bcb5c932",
   "metadata": {},
   "outputs": [
    {
     "name": "stdout",
     "output_type": "stream",
     "text": [
      "Player #1 and #2 do not have the same number of points.\n"
     ]
    }
   ],
   "source": [
    "player_one_score = \"Cộng hòa xã\"\n",
    "player_two_score = \"Cộng hòa xã\"\n",
    "\n",
    "if player_one_score is player_two_score:\n",
    "    print(\"Player #1 and #2 have the same number of points.\")\n",
    "else:\n",
    "    print(\"Player #1 and #2 do not have the same number of points.\")"
   ]
  },
  {
   "cell_type": "code",
   "execution_count": 17,
   "id": "9788d6fb",
   "metadata": {},
   "outputs": [
    {
     "data": {
      "text/plain": [
       "63"
      ]
     },
     "execution_count": 17,
     "metadata": {},
     "output_type": "execute_result"
    }
   ],
   "source": [
    "import difflib\n",
    "\n",
    "text1 = \"abc def ghi\"\n",
    "\n",
    "text2 = \"def ghi abc\"\n",
    "\n",
    "output = int(difflib.SequenceMatcher(None, text1, text2).ratio()*100)\n",
    "output"
   ]
  },
  {
   "cell_type": "code",
   "execution_count": 19,
   "id": "b5dcb670",
   "metadata": {},
   "outputs": [
    {
     "name": "stdout",
     "output_type": "stream",
     "text": [
      "True\n"
     ]
    }
   ],
   "source": [
    "s1 = 'abc def ghi'\n",
    "s2 = 'def ghi abc'\n",
    "set1 = set(s1.split(' '))\n",
    "set2 = set(s2.split(' '))\n",
    "print(set1 == set2)"
   ]
  },
  {
   "cell_type": "code",
   "execution_count": 22,
   "id": "cf904173",
   "metadata": {},
   "outputs": [
    {
     "name": "stdout",
     "output_type": "stream",
     "text": [
      "Bayswater matches the search pattern\n",
      "Table Bay matches the search pattern\n",
      "Bombay matches the search pattern\n"
     ]
    }
   ],
   "source": [
    "import re\n",
    "\n",
    "# define list of places\n",
    "listOfPlaces = [\"Bayswater\", \"Table Bay\", \"Bejing\", \"Bombay\"]\n",
    "\n",
    "# define search string\n",
    "pattern = re.compile(\"[Bb]ay\")\n",
    "\n",
    "for place in listOfPlaces:\n",
    "    if pattern.search(place):\n",
    "        print (\"%s matches the search pattern\" % place)"
   ]
  },
  {
   "cell_type": "code",
   "execution_count": 2,
   "id": "062c5eef",
   "metadata": {},
   "outputs": [],
   "source": [
    "# import difflib\n",
    " \n",
    "# # define original text\n",
    "# # taken from: https://en.wikipedia.org/wiki/Internet_Information_Services\n",
    "# original = [\"About the IIS\", \"abc\", \"IIS 8.5 has several improvements related\", \"to performance in large-scale scenarios, such\", \"as those used by commercial hosting providers and Microsoft's\", \"own cloud offerings.\"]\n",
    "\n",
    "# # define modified text\n",
    "# edited = [\"About the IIS\", \"abc\", \"It has several improvements related\", \"to performance in large-scale scenarios.\"]\n",
    "\n",
    "# # initiate the Differ object\n",
    "# d = difflib.Differ()\n",
    " \n",
    "# # calculate the difference between the two texts\n",
    "# diff = d.compare(original, edited)\n",
    " \n",
    "# # output the result\n",
    "# print ('\\n\\n'.join(diff))"
   ]
  },
  {
   "cell_type": "code",
   "execution_count": 8,
   "id": "f6a5400b",
   "metadata": {},
   "outputs": [],
   "source": [
    "def compare_images(path_image1, path_image2):\n",
    "    import cv2\n",
    "    import numpy as np\n",
    "    image1 = cv2.imread(path_image1)\n",
    "    image2 = cv2.imread(path_image2)\n",
    "    diff = cv2.subtract(image1, image2)\n",
    "    if not np.any(diff):\n",
    "        return True\n",
    "    else:\n",
    "        return False"
   ]
  },
  {
   "cell_type": "code",
   "execution_count": 4,
   "id": "013abfa8",
   "metadata": {},
   "outputs": [],
   "source": [
    "import xlsxwriter\n",
    "\n",
    "# Create a new workbook and add a worksheet\n",
    "workbook = xlsxwriter.Workbook('hyperlink.xlsx')\n",
    "worksheet = workbook.add_worksheet('Hyperlinks')\n",
    "\n",
    "# Format the first column\n",
    "worksheet.set_column('A:A', 30)\n",
    "\n",
    "# Add a sample alternative link format.\n",
    "red_format = workbook.add_format({\n",
    "    'font_color': 'red',\n",
    "    'bold':       1,\n",
    "    'underline':  1,\n",
    "    'font_size':  12,\n",
    "})\n",
    "\n",
    "# Write some hyperlinks\n",
    "worksheet.write_url('A1', 'http://www.python.org/')  # Implicit format.\n",
    "worksheet.write_url('A3', \"D:\\\\TanLV\\\\SS1\\\\image\\\\1-商品情報を押下する-OK.png\", string='Result 1')\n",
    "worksheet.write_url('A5', 'http://www.python.org/', tip='Click here')\n",
    "worksheet.write_url('A7', 'http://www.python.org/', red_format)\n",
    "worksheet.write_url('A9', 'mailto:jmcnamara@cpan.org', string='Mail me')\n",
    "\n",
    "# Write a URL that isn't a hyperlink\n",
    "worksheet.write_string('A11', 'http://www.python.org/')\n",
    "\n",
    "workbook.close()"
   ]
  },
  {
   "cell_type": "code",
   "execution_count": 5,
   "id": "55e15a45",
   "metadata": {},
   "outputs": [],
   "source": [
    "def download_img(image_url, dir_folder):\n",
    "    import requests\n",
    "    import shutil\n",
    "    filename = image_url.split(\"/\")[-1]\n",
    "    try:\n",
    "        r = requests.get(image_url, stream=True)\n",
    "        if r.status_code == 200:\n",
    "            r.raw.decode_content = True\n",
    "            with open(f\"{dir_folder}\\\\{filename}.png\", 'wb') as f:\n",
    "                shutil.copyfileobj(r.raw, f)\n",
    "            count_img += 1\n",
    "            print('Download thành công: ' + str(filename))\n",
    "        else:\n",
    "            print('Download thất bại: ' + str(image_url))\n",
    "        print(\"Kết thúc download_img\")\n",
    "    except Exception as error:\n",
    "        pass\n"
   ]
  },
  {
   "cell_type": "code",
   "execution_count": 9,
   "id": "cd1f75f9",
   "metadata": {},
   "outputs": [],
   "source": [
    "download_img(r\"https://img1.kakaku.k-img.com/images/article/tieup/21/12_y_3000/170x170.jpg\", r\"D:\\TanLV\\SS1\\banner_image\")"
   ]
  },
  {
   "cell_type": "code",
   "execution_count": 11,
   "id": "8b3e411a",
   "metadata": {},
   "outputs": [
    {
     "data": {
      "text/plain": [
       "False"
      ]
     },
     "execution_count": 11,
     "metadata": {},
     "output_type": "execute_result"
    }
   ],
   "source": [
    "compare_images(r\"D:\\TanLV\\SS1\\banner_image\\170x170.jpg.png\", r\"D:\\TanLV\\SS1\\banner_image\\banner_jalcard.jpg\")"
   ]
  },
  {
   "cell_type": "code",
   "execution_count": 1,
   "id": "23aea2c2",
   "metadata": {},
   "outputs": [
    {
     "name": "stdout",
     "output_type": "stream",
     "text": [
      "170x170.jpg.png\n"
     ]
    }
   ],
   "source": [
    "import os\n",
    "file = r\"D:\\TanLV\\SS1\\banner_image\\170x170.jpg.png\"\n",
    "print(os.path.basename(file))"
   ]
  },
  {
   "cell_type": "code",
   "execution_count": null,
   "id": "cfb4ffa2",
   "metadata": {},
   "outputs": [],
   "source": []
  }
 ],
 "metadata": {
  "kernelspec": {
   "display_name": "Python 3 (ipykernel)",
   "language": "python",
   "name": "python3"
  },
  "language_info": {
   "codemirror_mode": {
    "name": "ipython",
    "version": 3
   },
   "file_extension": ".py",
   "mimetype": "text/x-python",
   "name": "python",
   "nbconvert_exporter": "python",
   "pygments_lexer": "ipython3",
   "version": "3.8.8"
  }
 },
 "nbformat": 4,
 "nbformat_minor": 5
}
