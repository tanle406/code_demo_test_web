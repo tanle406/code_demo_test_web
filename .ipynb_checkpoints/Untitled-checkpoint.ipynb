{
 "cells": [
  {
   "cell_type": "code",
   "execution_count": 2,
   "id": "118571ed",
   "metadata": {},
   "outputs": [
    {
     "data": {
      "text/plain": [
       "'B'"
      ]
     },
     "execution_count": 2,
     "metadata": {},
     "output_type": "execute_result"
    }
   ],
   "source": [
    "chr(66)"
   ]
  },
  {
   "cell_type": "code",
   "execution_count": 3,
   "id": "ceeabf00",
   "metadata": {},
   "outputs": [],
   "source": [
    "from openpyxl import load_workbook, Workbook"
   ]
  },
  {
   "cell_type": "code",
   "execution_count": 16,
   "id": "c74b5065",
   "metadata": {},
   "outputs": [],
   "source": [
    "work_book = load_workbook(r\"C:\\Users\\IFV-admin\\Desktop\\test case\\test.xlsx\")\n",
    "work_sheet = work_book.active\n",
    "work_sheet[\"I16\"].value = \"OK\"\n",
    "work_book.save(r\"C:\\Users\\IFV-admin\\Desktop\\test case\\test.xlsx\")"
   ]
  },
  {
   "cell_type": "code",
   "execution_count": 5,
   "id": "5902d64b",
   "metadata": {},
   "outputs": [
    {
     "data": {
      "text/plain": [
       "'C:\\\\Users\\\\IFV-admin\\\\Desktop\\\\test case\\\\test1.xlsx'"
      ]
     },
     "execution_count": 5,
     "metadata": {},
     "output_type": "execute_result"
    }
   ],
   "source": [
    "from shutil import copyfile\n",
    "copyfile(r\"C:\\Users\\IFV-admin\\Desktop\\test case\\test.xlsx\", r\"C:\\Users\\IFV-admin\\Desktop\\test case\\test1.xlsx\")"
   ]
  },
  {
   "cell_type": "code",
   "execution_count": 8,
   "id": "4d86b5ec",
   "metadata": {},
   "outputs": [
    {
     "data": {
      "text/plain": [
       "'C:\\\\Users\\\\IFV-admin\\\\Desktop\\\\test case\\\\backup\\\\test1.xlsx'"
      ]
     },
     "execution_count": 8,
     "metadata": {},
     "output_type": "execute_result"
    }
   ],
   "source": [
    "from shutil import move\n",
    "copyfile(r\"C:\\Users\\IFV-admin\\Desktop\\test case\\test1.xlsx\", r\"C:\\Users\\IFV-admin\\Desktop\\test case\\backup\\test1.xlsx\")"
   ]
  },
  {
   "cell_type": "code",
   "execution_count": 15,
   "id": "a8413df3",
   "metadata": {},
   "outputs": [],
   "source": [
    "import os\n",
    "from os import path\n",
    "check_folder = path.exists(r\"C:\\Users\\IFV-admin\\Desktop\\test case\\backup\")\n",
    "if check_folder:\n",
    "    pass\n",
    "else:\n",
    "    os.makedirs(r\"C:\\Users\\IFV-admin\\Desktop\\test case\\backup\")"
   ]
  },
  {
   "cell_type": "code",
   "execution_count": null,
   "id": "3afe2e6b",
   "metadata": {},
   "outputs": [],
   "source": []
  },
  {
   "cell_type": "code",
   "execution_count": 27,
   "id": "d2f4b49d",
   "metadata": {},
   "outputs": [
    {
     "ename": "TypeError",
     "evalue": "'tuple' object does not support item assignment",
     "output_type": "error",
     "traceback": [
      "\u001b[1;31m---------------------------------------------------------------------------\u001b[0m",
      "\u001b[1;31mTypeError\u001b[0m                                 Traceback (most recent call last)",
      "\u001b[1;32mC:\\Users\\IFV-AD~1\\AppData\\Local\\Temp/ipykernel_13724/1868593096.py\u001b[0m in \u001b[0;36m<module>\u001b[1;34m\u001b[0m\n\u001b[0;32m      1\u001b[0m \u001b[0mthistuple\u001b[0m \u001b[1;33m=\u001b[0m \u001b[1;33m(\u001b[0m\u001b[1;34m\"apple\"\u001b[0m\u001b[1;33m,\u001b[0m \u001b[1;34m\"banana\"\u001b[0m\u001b[1;33m,\u001b[0m \u001b[1;34m\"cherry\"\u001b[0m\u001b[1;33m)\u001b[0m\u001b[1;33m\u001b[0m\u001b[1;33m\u001b[0m\u001b[0m\n\u001b[1;32m----> 2\u001b[1;33m \u001b[0mthistuple\u001b[0m\u001b[1;33m[\u001b[0m\u001b[1;36m1\u001b[0m\u001b[1;33m]\u001b[0m \u001b[1;33m=\u001b[0m \u001b[1;34m\"blackcurrant\"\u001b[0m\u001b[1;33m\u001b[0m\u001b[1;33m\u001b[0m\u001b[0m\n\u001b[0m",
      "\u001b[1;31mTypeError\u001b[0m: 'tuple' object does not support item assignment"
     ]
    }
   ],
   "source": [
    "thistuple = (\"apple\", \"banana\", \"cherry\")\n",
    "thistuple[1] = \"blackcurrant\""
   ]
  },
  {
   "cell_type": "code",
   "execution_count": 1,
   "id": "f5ffd33f",
   "metadata": {},
   "outputs": [],
   "source": [
    "def MoveFile(old_path, new_location):\n",
    "    import os\n",
    "    import datetime\n",
    "    h =datetime.datetime.now()\n",
    "    name = old_path.split(\"\\\\\")[-1]\n",
    "    new_path = new_location + \"\\\\\" + name\n",
    "    if os.path.exists(old_path):\n",
    "        if not os.path.exists(new_path):\n",
    "            os.rename(old_path, new_path)\n",
    "        elif os.path.exists(new_path):\n",
    "            new_path = new_location + \"\\\\\" + \\\n",
    "                \"(\" + str(h).split('.')[0].replace(':','') + \") \" + name\n",
    "            os.rename(old_path, new_path)"
   ]
  },
  {
   "cell_type": "code",
   "execution_count": 3,
   "id": "babbfffc",
   "metadata": {},
   "outputs": [],
   "source": [
    "MoveFile(\"D:\\\\TanLV\\\\SS1\\\\output\\\\output.xlsx\", \"D:\\\\TanLV\\\\SS1\\\\bak\")"
   ]
  },
  {
   "cell_type": "code",
   "execution_count": 31,
   "id": "ee7cd324",
   "metadata": {},
   "outputs": [
    {
     "name": "stdout",
     "output_type": "stream",
     "text": [
      "88\n"
     ]
    }
   ],
   "source": [
    "x = 99\n",
    "def func1():\n",
    "    global x\n",
    "    x = 88\n",
    "def func2():\n",
    "    global x\n",
    "    x = 77\n",
    "func2()\n",
    "func1()\n",
    "\n",
    "print(x)"
   ]
  },
  {
   "cell_type": "code",
   "execution_count": 8,
   "id": "9d30da39",
   "metadata": {},
   "outputs": [],
   "source": [
    "a = ['https://www.aohata.co.jp/products/55/45185922.html', 'https://www.aohata.co.jp/products/55/45185939.html', 'https://www.aohata.co.jp/products/55/45185946.html', 'https://www.aohata.co.jp/products/55/45185953.html', 'https://www.aohata.co.jp/products/55/45185960.html', 'https://www.aohata.co.jp/products/55/45185984.html', 'https://www.aohata.co.jp/products/55/45185991.html', 'https://www.aohata.co.jp/products/55/45186004.html', 'https://www.aohata.co.jp/products/55/45186011.html', 'https://www.aohata.co.jp/products/55/45201981.html', 'https://www.aohata.co.jp/products/55/45212000.html', 'https://www.aohata.co.jp/products/marugoto/4562452230016.html', 'https://www.aohata.co.jp/products/marugoto/4562452230023.html', 'https://www.aohata.co.jp/products/marugoto/4562452230030.html', 'https://www.aohata.co.jp/products/marugoto/4562452230047.html', 'https://www.aohata.co.jp/products/marugoto/4562452230054.html', 'https://www.aohata.co.jp/products/marugoto/4562452230276.html', 'https://www.aohata.co.jp/products/marugoto/4562452230283.html', 'https://www.aohata.co.jp/products/marugoto/4562452230788.html', 'https://www.aohata.co.jp/products/marugoto/4562452231198.html', 'https://www.aohata.co.jp/products/traditional/4562452230887.html', 'https://www.aohata.co.jp/products/traditional/4562452230894.html', 'https://www.aohata.co.jp/products/slug_50/45186134.html', 'https://www.aohata.co.jp/products/slug_50/45186141.html', 'https://www.aohata.co.jp/products/slug_50/45186158.html', 'https://www.aohata.co.jp/products/afternoon/4562452230160.html', 'https://www.aohata.co.jp/products/afternoon/4562452230177.html', 'https://www.aohata.co.jp/products/afternoon/4562452230184.html', 'https://www.aohata.co.jp/products/afternoon/4562452230191.html', 'https://www.aohata.co.jp/products/fruitsauce/4562452231266.html', 'https://www.aohata.co.jp/products/fruitsauce/4562452231273.html', 'https://www.aohata.co.jp/products/eggbutter/45201967.html', 'https://www.aohata.co.jp/products/eggbutter/45201974.html', 'https://www.aohata.co.jp/products/spread/45201912.html', 'https://www.aohata.co.jp/products/spread/45201905.html', 'https://www.aohata.co.jp/products/terrine/4562452230900.html', 'https://www.aohata.co.jp/products/terrine/4562452230917.html', 'https://www.aohata.co.jp/products/terrine/4562452230344.html', 'https://www.aohata.co.jp/products/terrine/4562452230351.html', 'https://www.aohata.co.jp/products/terrine/4562452230924.html', 'https://www.aohata.co.jp/products/terrine/4562452230931.html', 'https://www.aohata.co.jp/products/whip/4562452230290.html', 'https://www.aohata.co.jp/products/whip/4562452230306.html', 'https://www.aohata.co.jp/products/whip/4562452231235.html', 'https://www.aohata.co.jp/products/whip/4562452231167.html', 'https://www.aohata.co.jp/products/whip/4562452231174.html', 'https://www.aohata.co.jp/products/toast/4562452231129.html', 'https://www.aohata.co.jp/products/toast/4562452231136.html', 'https://www.aohata.co.jp/products/toast/4562452231495.html', 'https://www.aohata.co.jp/products/toast/4562452231464.html', 'https://www.aohata.co.jp/products/toast/4562452231181.html', 'https://www.aohata.co.jp/products/pakitte/4562452230504.html', 'https://www.aohata.co.jp/products/pakitte/4562452230511.html', 'https://www.aohata.co.jp/products/pakitte/4562452230528.html', 'https://www.aohata.co.jp/products/pakitte/4562452230535.html', 'https://www.aohata.co.jp/products/pakitte/4562452230542.html', 'https://www.aohata.co.jp/products/pakitte/4562452230559.html', 'https://www.aohata.co.jp/products/pakitte/4562452230566.html', 'https://www.aohata.co.jp/products/pakitte/4562452231341.html', 'https://www.aohata.co.jp/products/lamp/4901577005145.html', 'https://www.aohata.co.jp/products/lamp/4901577005152.html', 'https://www.aohata.co.jp/products/lamp/4901577005169.html']"
   ]
  },
  {
   "cell_type": "code",
   "execution_count": 9,
   "id": "9fcaff83",
   "metadata": {},
   "outputs": [
    {
     "data": {
      "text/plain": [
       "'https://www.aohata.co.jp/products/55/45212000.html'"
      ]
     },
     "execution_count": 9,
     "metadata": {},
     "output_type": "execute_result"
    }
   ],
   "source": [
    "a[10]"
   ]
  },
  {
   "cell_type": "code",
   "execution_count": 6,
   "id": "70c5e2c9",
   "metadata": {},
   "outputs": [
    {
     "data": {
      "text/plain": [
       "14"
      ]
     },
     "execution_count": 6,
     "metadata": {},
     "output_type": "execute_result"
    }
   ],
   "source": [
    "import pandas as pd\n",
    "df_master = pd.read_excel(\"D:\\\\TanLV\\\\SS1\\\\tmpl\\\\master_price_product.xlsx\", sheet_name=0, header=0, dtype=object)\n",
    "df_check = df_master.loc[df_master[\"Code_Product\"].astype(str) == \"4562452230047\"]\n",
    "df_check.index[0]"
   ]
  },
  {
   "cell_type": "code",
   "execution_count": 8,
   "id": "06888569",
   "metadata": {},
   "outputs": [
    {
     "name": "stdout",
     "output_type": "stream",
     "text": [
      "430円\n"
     ]
    }
   ],
   "source": [
    "print(df_check[\"Price\"][\n",
    "    df_check.index[0]])"
   ]
  },
  {
   "cell_type": "code",
   "execution_count": 44,
   "id": "b0f4b7c3",
   "metadata": {},
   "outputs": [],
   "source": [
    "prods = ['https://www.aohata.co.jp/products/55/45185922.html', 'https://www.aohata.co.jp/products/55/45185939.html', 'https://www.aohata.co.jp/products/55/45185946.html', 'https://www.aohata.co.jp/products/55/45185953.html', 'https://www.aohata.co.jp/products/55/45185960.html', 'https://www.aohata.co.jp/products/55/45185984.html', 'https://www.aohata.co.jp/products/55/45185991.html', 'https://www.aohata.co.jp/products/55/45186004.html', 'https://www.aohata.co.jp/products/55/45186011.html', 'https://www.aohata.co.jp/products/55/45201981.html', 'https://www.aohata.co.jp/products/55/45212000.html', 'https://www.aohata.co.jp/products/marugoto/4562452230016.html', 'https://www.aohata.co.jp/products/marugoto/4562452230023.html', 'https://www.aohata.co.jp/products/marugoto/4562452230030.html', 'https://www.aohata.co.jp/products/marugoto/4562452230047.html', 'https://www.aohata.co.jp/products/marugoto/4562452230054.html', 'https://www.aohata.co.jp/products/marugoto/4562452230276.html', 'https://www.aohata.co.jp/products/marugoto/4562452230283.html', 'https://www.aohata.co.jp/products/marugoto/4562452230788.html', 'https://www.aohata.co.jp/products/marugoto/4562452231198.html', 'https://www.aohata.co.jp/products/traditional/4562452230887.html', 'https://www.aohata.co.jp/products/traditional/4562452230894.html', 'https://www.aohata.co.jp/products/slug_50/45186134.html', 'https://www.aohata.co.jp/products/slug_50/45186141.html', 'https://www.aohata.co.jp/products/slug_50/45186158.html', 'https://www.aohata.co.jp/products/afternoon/4562452230160.html', 'https://www.aohata.co.jp/products/afternoon/4562452230177.html', 'https://www.aohata.co.jp/products/afternoon/4562452230184.html', 'https://www.aohata.co.jp/products/afternoon/4562452230191.html', 'https://www.aohata.co.jp/products/fruitsauce/4562452231266.html', 'https://www.aohata.co.jp/products/fruitsauce/4562452231273.html', 'https://www.aohata.co.jp/products/eggbutter/45201967.html', 'https://www.aohata.co.jp/products/eggbutter/45201974.html', 'https://www.aohata.co.jp/products/spread/45201912.html', 'https://www.aohata.co.jp/products/spread/45201905.html', 'https://www.aohata.co.jp/products/terrine/4562452230900.html', 'https://www.aohata.co.jp/products/terrine/4562452230917.html', 'https://www.aohata.co.jp/products/terrine/4562452230344.html', 'https://www.aohata.co.jp/products/terrine/4562452230351.html', 'https://www.aohata.co.jp/products/terrine/4562452230924.html', 'https://www.aohata.co.jp/products/terrine/4562452230931.html', 'https://www.aohata.co.jp/products/hitokuchi/4562452231525.html', 'https://www.aohata.co.jp/products/whip/4562452230290.html', 'https://www.aohata.co.jp/products/whip/4562452230306.html', 'https://www.aohata.co.jp/products/whip/4562452231235.html', 'https://www.aohata.co.jp/products/whip/4562452231167.html', 'https://www.aohata.co.jp/products/whip/4562452231174.html', 'https://www.aohata.co.jp/products/toast/4562452231129.html', 'https://www.aohata.co.jp/products/toast/4562452231136.html', 'https://www.aohata.co.jp/products/toast/4562452231495.html', 'https://www.aohata.co.jp/products/toast/4562452231464.html', 'https://www.aohata.co.jp/products/toast/4562452231181.html', 'https://www.aohata.co.jp/products/pakitte/4562452230504.html', 'https://www.aohata.co.jp/products/pakitte/4562452230511.html', 'https://www.aohata.co.jp/products/pakitte/4562452230528.html', 'https://www.aohata.co.jp/products/pakitte/4562452230535.html', 'https://www.aohata.co.jp/products/pakitte/4562452230542.html', 'https://www.aohata.co.jp/products/pakitte/4562452230559.html', 'https://www.aohata.co.jp/products/pakitte/4562452230566.html', 'https://www.aohata.co.jp/products/pakitte/4562452231341.html', 'https://www.aohata.co.jp/products/lamp/4901577005145.html', 'https://www.aohata.co.jp/products/lamp/4901577005152.html', 'https://www.aohata.co.jp/products/lamp/4901577005169.html']"
   ]
  },
  {
   "cell_type": "code",
   "execution_count": 45,
   "id": "99bdfb54",
   "metadata": {},
   "outputs": [
    {
     "data": {
      "text/plain": [
       "'https://www.aohata.co.jp/products/marugoto/4562452230054.html'"
      ]
     },
     "execution_count": 45,
     "metadata": {},
     "output_type": "execute_result"
    }
   ],
   "source": [
    "prods[15]"
   ]
  },
  {
   "cell_type": "code",
   "execution_count": 3,
   "id": "37f394e6",
   "metadata": {},
   "outputs": [
    {
     "data": {
      "text/plain": [
       "'#002f87'"
      ]
     },
     "execution_count": 3,
     "metadata": {},
     "output_type": "execute_result"
    }
   ],
   "source": [
    "color_rgba = (0, 47, 135, 1) # R, G, B, Alpha\n",
    "rgba_color_hex = '#{:02x}{:02x}{:02x}'.format(*color_rgba)\n",
    "rgba_color_hex"
   ]
  },
  {
   "cell_type": "code",
   "execution_count": 58,
   "id": "ee33bb82",
   "metadata": {},
   "outputs": [],
   "source": [
    "from bs4 import BeautifulSoup\n",
    "import requests\n",
    "url = \"https://usamart-stg.a-it.jp/products/86967\"\n",
    "content = requests.get(url, auth=(\"ec\", \"W7XxaowZ\")).content\n",
    "soup = BeautifulSoup(content, 'html.parser')"
   ]
  },
  {
   "cell_type": "code",
   "execution_count": 59,
   "id": "e6e9ed43",
   "metadata": {},
   "outputs": [
    {
     "name": "stdout",
     "output_type": "stream",
     "text": [
      "True\n"
     ]
    }
   ],
   "source": [
    "content_prod = soup.find(\"div\", {\"id\": \"product_wrapper\"})\n",
    "if \"タイヤ\" in content_prod.text:\n",
    "    print(\"True\")\n",
    "else:\n",
    "    print(\"False\")"
   ]
  },
  {
   "cell_type": "code",
   "execution_count": 9,
   "id": "d494a3ba",
   "metadata": {},
   "outputs": [],
   "source": [
    "import pandas as pd\n",
    "\n",
    "# Create a Pandas dataframe from some data.\n",
    "df = pd.DataFrame({'Data': [10, 20, 30, 20, 15, 30, 45]})\n",
    "\n",
    "# Create a Pandas Excel writer using XlsxWriter as the engine.\n",
    "writer = pd.ExcelWriter('pandas_image.xlsx', engine='xlsxwriter')\n",
    "\n",
    "# Convert the dataframe to an XlsxWriter Excel object.\n",
    "df.to_excel(writer, sheet_name='Sheet1')\n",
    "\n",
    "# Get the xlsxwriter workbook and worksheet objects.\n",
    "workbook  = writer.book\n",
    "worksheet = writer.sheets['Sheet1']\n",
    "\n",
    "# Insert an image.\n",
    "worksheet.insert_image('C2', 'C:\\\\Users\\\\IFV-admin\\\\Desktop\\\\45201905L.jpg', {'x_scale': 0.05, 'y_scale': 0.05})\n",
    "\n",
    "# Close the Pandas Excel writer and output the Excel file.\n",
    "writer.save()"
   ]
  },
  {
   "cell_type": "code",
   "execution_count": null,
   "id": "de28387a",
   "metadata": {},
   "outputs": [],
   "source": []
  },
  {
   "cell_type": "code",
   "execution_count": null,
   "id": "dbb288a7",
   "metadata": {},
   "outputs": [],
   "source": []
  },
  {
   "cell_type": "code",
   "execution_count": null,
   "id": "0baef7c5",
   "metadata": {},
   "outputs": [],
   "source": []
  }
 ],
 "metadata": {
  "kernelspec": {
   "display_name": "Python 3 (ipykernel)",
   "language": "python",
   "name": "python3"
  },
  "language_info": {
   "codemirror_mode": {
    "name": "ipython",
    "version": 3
   },
   "file_extension": ".py",
   "mimetype": "text/x-python",
   "name": "python",
   "nbconvert_exporter": "python",
   "pygments_lexer": "ipython3",
   "version": "3.8.8"
  }
 },
 "nbformat": 4,
 "nbformat_minor": 5
}
